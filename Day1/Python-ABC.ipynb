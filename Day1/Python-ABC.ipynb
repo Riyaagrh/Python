{
 "cells": [
  {
   "cell_type": "markdown",
   "metadata": {},
   "source": [
    "## Hands-On Lab \n",
    "My Dear Student! \n",
    "\n",
    "**Let me tell you the best way to learn python is, practice!**\n",
    "Let's do this small hands-on exercise together with me to understand Python essentials \n",
    "\n",
    "All the best! The fate of the mission is in your hands now.\n",
    "\n",
    "## Why you will learn in this hands-on exercise?\n",
    "Python's power. You will learn how the cocepts of Python, you will be applying the following concepts:\n",
    "\n",
    "- variable\n",
    "    - rules for gud coding style\n",
    "- Data types(number, string, boolean, float) \n",
    "- Most used complex types:\n",
    "    - list \n",
    "        - Access Element \n",
    "        - Looping \n",
    "        - List comprehension\n",
    "        - Adding item \n",
    "        - Removing item    \n",
    "    - dictionary \n",
    "        - Access Element \n",
    "        - Looping \n",
    "        - dic comprehension\n",
    "        - Adding item\n",
    "        - Removing item \n",
    "    - touple \n",
    "- Conditional statements\n",
    "    - if\n",
    "    - elif\n",
    "    - else\n",
    "- loop\n",
    "    - for\n",
    "    - while\n",
    "- Functions\n",
    "    - inbuilt\n",
    "    - user defined"
   ]
  },
  {
   "cell_type": "markdown",
   "metadata": {},
   "source": [
    "# this is fun\n",
    "\n",
    "**LEARNING**\n",
    "\n",
    "- LETS GO\n",
    "    - MOVE ON\n",
    "        - WOHOO\n",
    "            - ENOUGH\n",
    "              - BYE\n",
    "              \n",
    "**METHOD NAME : ADD\n",
    "- INPUT:\n",
    "\n",
    "\n",
    "|NUMBER 1|NUMBER 2|\n",
    "|--------|--------|\n",
    "|NUMBER 3|NUMBER 4|\n",
    "\n"
   ]
  },
  {
   "cell_type": "code",
   "execution_count": null,
   "metadata": {},
   "outputs": [],
   "source": []
  },
  {
   "cell_type": "code",
   "execution_count": 2,
   "metadata": {},
   "outputs": [],
   "source": [
    "#Declare a Variable\n",
    "#Assign value to a variable\n",
    "#Talk about dynamic types\n",
    "#print \n",
    "#talk about number, string, float\n",
    "#string operations\n",
    "#loop\n",
    "#declre a list\n",
    "#list operations\n",
    "#declare a dictionary\n",
    "#dictionay operation\n",
    "#declare a touple \n",
    "#touple operations\n",
    "#moving back a pice of code to a function and calling it\n"
   ]
  },
  {
   "cell_type": "markdown",
   "metadata": {},
   "source": [
    "# Project : College Management Cockpit"
   ]
  },
  {
   "cell_type": "markdown",
   "metadata": {},
   "source": [
    "### Task 1\n",
    "\n",
    "**A college is maintaining operations of a college (IET-North Engineering College) through a software. This software captures and maintain college_name, year_of_establishment, address, courses and degrees, pincode.\n",
    "With respect to area pincode college has different facilities to engage the students**\n",
    "\n",
    "#### Instructions:\n",
    "\n",
    "* write down the variables the software program will use \n",
    "* Initialize the variables with required set of data  \n",
    "* print the college name and year of establishment\n",
    "\n",
    "colleges1 ={201301 : ['college 1', '1982','SHiv Puri', {'courses':['CS', 'IT']}, {'degrees':['BTech', 'BE']}, {'facilities':['library','sports','IOP']}]}\n",
    "colleges2 ={201302 : ['college 2', '1982','SHiv Puri', {'courses':['CS', 'IT']}, {'degrees':['BTech', 'BE']},{'facilities':['library','IOP']}]}\n",
    "\n",
    "\n",
    "dic = {201301:\"Noida\", 246001:\"Pauri\"}\n",
    "dic.get(201301)\n",
    "\n"
   ]
  },
  {
   "cell_type": "code",
   "execution_count": 30,
   "metadata": {},
   "outputs": [],
   "source": [
    "#Sometimes there are multiple ways of viewing problem statements \n",
    "#Sometimes it is importnat to understand the futuristic changes"
   ]
  },
  {
   "cell_type": "markdown",
   "metadata": {},
   "source": [
    "### Task 2\n",
    "\n",
    "**College management has decided to crate a new holdings to show all courses offered by college. \n",
    "So, for this let's print all courses offered by college**\n"
   ]
  },
  {
   "cell_type": "code",
   "execution_count": 1,
   "metadata": {},
   "outputs": [
    {
     "name": "stdout",
     "output_type": "stream",
     "text": [
      "Riya\n"
     ]
    }
   ],
   "source": [
    "#Sometimes we need to club different items in one \n",
    "#Sometimes we need to find Index Of a item\n",
    "#sometimes we need to check the type of item\n",
    "#Sometimes we need to put logical conditions to make sure we are dealing with right item\n",
    "\n",
    "print(\"Riya\")\n"
   ]
  },
  {
   "cell_type": "raw",
   "metadata": {},
   "source": [
    "# Task 3\n",
    "\n",
    "**Add a new recently added facility `digital library` to area with pin code 201302**\n"
   ]
  },
  {
   "cell_type": "code",
   "execution_count": 39,
   "metadata": {},
   "outputs": [],
   "source": [
    "#Can a List Item be accessed using index?\n",
    "#Can a List Item be accessed using value?"
   ]
  },
  {
   "cell_type": "markdown",
   "metadata": {},
   "source": [
    "### Task 4\n",
    "\n",
    "**One of the degree course is closed by college in year 2020-21 in all colleges. Remove that degree from list of degree courses.** \n",
    "**Add one degree course which is newly introduced**"
   ]
  },
  {
   "cell_type": "code",
   "execution_count": 29,
   "metadata": {},
   "outputs": [],
   "source": [
    "#What probing you may do while solving this task\n",
    "    #Which Degree is added? \n",
    "    #Which Degree is removed?\n",
    "    #Will this change for all colleges or for a specific area?"
   ]
  },
  {
   "cell_type": "markdown",
   "metadata": {},
   "source": [
    "### Task 5\n",
    "\n",
    "**One interesting thing about college is, for security reasons, there are 3 gates in college with even pin codes but the name of each gate is the square the number from 1 to 3**\n",
    "\n",
    "#### Instructions:\n",
    "* explanation: the names of Gate(1,2,3) are Gate1, Gate4, Gate9 repectively\n",
    "* print all Gates name "
   ]
  },
  {
   "cell_type": "code",
   "execution_count": null,
   "metadata": {},
   "outputs": [],
   "source": [
    "#What probing you may do while solving this task?\n",
    "    #Can there be more than one colleges in future with even Pin Code?\n",
    "    #Can there be more than 3 gates in a college? "
   ]
  },
  {
   "cell_type": "markdown",
   "metadata": {},
   "source": [
    "## Task 6\n",
    "**Check if the name of the College is less than 10 characters or equal, take first word as college name for any print media** "
   ]
  },
  {
   "cell_type": "code",
   "execution_count": null,
   "metadata": {},
   "outputs": [],
   "source": [
    "#What probing you may do while solving this task\n",
    "    #Can First World of college be more than 10 characters, what should be done in that case?\n",
    "    #What does print media means?\n",
    "    #What if Name is B.G.Reddy Campus Of Engineering?"
   ]
  },
  {
   "cell_type": "markdown",
   "metadata": {},
   "source": [
    "## Home Exercises\n",
    "\n",
    "### Task 7\n",
    "\n",
    "**Let's create a dictionary for `Tom Berry` in each subject to generate his progress report.** \n",
    "\n",
    "\n",
    "\n",
    "#### Instructions\n",
    "\n",
    "* Create a dictionary named `'courses'` using the keys and values given below\n",
    "\n",
    "\n",
    "|course|marks|\n",
    "|-----|-----|\n",
    "|Math|65|\n",
    "|English|70|\n",
    "|History|80|\n",
    "|French|70|\n",
    "|Science|60|\n",
    "\n",
    "* Print the marks obtained in each subject.\n",
    " \n",
    "* Sum all the marks scored out of 100 and store it in a variable named `'total_marks'`.\n",
    "\n",
    "\n",
    "* Print `'total_marks'`.\n",
    "\n",
    "\n",
    "* Calculate the `'perntage'` scored by `'Tom Berry'` where addition of all the subjects is `500`.\n",
    "\n",
    "\n",
    "* Print the `'perntage'`.\n",
    "\n"
   ]
  },
  {
   "cell_type": "code",
   "execution_count": null,
   "metadata": {},
   "outputs": [],
   "source": []
  },
  {
   "cell_type": "markdown",
   "metadata": {},
   "source": [
    "### Task 8\n",
    "\n",
    "**From the previous task, we know who is the 'Maths' topper in the class. You now have to print the name of the student on the certificate, but you will have to print his last name and then his first name.** \n",
    "\n",
    "\n",
    "## Instructions\n",
    "\n",
    "* String name `'topper'` with the Math topper's name is given.\n",
    "\n",
    "\n",
    "* Split the `'topper'` using the `\"split()\"` function and store the results in `'first_name'` and `'last_name'`.\n",
    "\n",
    "***\n",
    "    --Hint: Use split function:\n",
    "    \n",
    "\n",
    "*  Display the full name concatenating `+` the strings `'last_name'` and `'first_name'` strings. Don't forget to add a whitespace character between them to avoid displaying them together and store it in a `full_name` variable .\n",
    "\n",
    "\n",
    "* Convert all the elements in the `'full_name'`string to uppercase, and store it to the `'certificate_name'` variable.\n",
    "\n",
    "\n",
    "* Print `'certificate_name'`."
   ]
  },
  {
   "cell_type": "code",
   "execution_count": null,
   "metadata": {},
   "outputs": [],
   "source": []
  }
 ],
 "metadata": {
  "kernelspec": {
   "display_name": "Python 3",
   "language": "python",
   "name": "python3"
  },
  "language_info": {
   "codemirror_mode": {
    "name": "ipython",
    "version": 3
   },
   "file_extension": ".py",
   "mimetype": "text/x-python",
   "name": "python",
   "nbconvert_exporter": "python",
   "pygments_lexer": "ipython3",
   "version": "3.8.5"
  }
 },
 "nbformat": 4,
 "nbformat_minor": 4
}
